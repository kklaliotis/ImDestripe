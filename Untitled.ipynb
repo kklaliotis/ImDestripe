{
 "cells": [
  {
   "cell_type": "code",
   "execution_count": 161,
   "id": "1f7b5955-b646-4aa2-80e8-e37ab58b6c84",
   "metadata": {},
   "outputs": [],
   "source": [
    "from astropy.io import fits\n",
    "from astropy import wcs\n",
    "import numpy as np\n",
    "import matplotlib.pyplot as plt\n",
    "import re\n",
    "from scipy import ndimage\n",
    "import compareutils"
   ]
  },
  {
   "cell_type": "code",
   "execution_count": 92,
   "id": "902e3314-1347-497e-b4a1-82c1440f292c",
   "metadata": {},
   "outputs": [],
   "source": [
    "f = fits.open('Roman_WAS_simple_model_H158_662_10.fits')"
   ]
  },
  {
   "cell_type": "code",
   "execution_count": 93,
   "id": "f581bbaf-0b54-4bdc-849d-cf38ecac5d80",
   "metadata": {},
   "outputs": [
    {
     "name": "stdout",
     "output_type": "stream",
     "text": [
      "Filename: Roman_WAS_simple_model_H158_662_10.fits\n",
      "No.    Name      Ver    Type      Cards   Dimensions   Format\n",
      "  0  PRIMARY       1 PrimaryHDU      63   ()      \n",
      "  1  SCI           1 ImageHDU        68   (4088, 4088)   float64   \n",
      "  2  ERR           1 ImageHDU        68   (4088, 4088)   float32   \n",
      "  3  DQ            1 ImageHDU        70   (4088, 4088)   int32 (rescales to uint32)   \n"
     ]
    }
   ],
   "source": [
    "f.info()"
   ]
  },
  {
   "cell_type": "code",
   "execution_count": 94,
   "id": "e3660325-3ffa-4963-ab66-46145582b118",
   "metadata": {},
   "outputs": [
    {
     "data": {
      "text/plain": [
       "XTENSION= 'IMAGE   '           / Image extension                                \n",
       "BITPIX  =                  -64 / array data type                                \n",
       "NAXIS   =                    2 / number of array dimensions                     \n",
       "NAXIS1  =                 4088                                                  \n",
       "NAXIS2  =                 4088                                                  \n",
       "PCOUNT  =                    0 / number of parameters                           \n",
       "GCOUNT  =                    1 / number of groups                               \n",
       "EXPTIME =                139.8                                                  \n",
       "MJD-OBS =         61910.341292                                                  \n",
       "DATE-OBS= '2028-05-19 08:11:27.628800'                                          \n",
       "FILTER  = 'H158    '                                                            \n",
       "ZPTMAG  =   16.800870916182618                                                  \n",
       "GS_XMIN =                    1 / GalSim image minimum x coordinate              \n",
       "GS_YMIN =                    1 / GalSim image minimum y coordinate              \n",
       "GS_WCS  = 'GSFitsWCS'          / GalSim WCS name                                \n",
       "CTYPE1  = 'RA---TAN-SIP'                                                        \n",
       "CTYPE2  = 'DEC--TAN-SIP'                                                        \n",
       "CRPIX1  =               2044.0                                                  \n",
       "CRPIX2  =               2044.0                                                  \n",
       "CD1_1   = -3.0195240068606E-05                                                  \n",
       "CD1_2   = 4.34247409239263E-06                                                  \n",
       "CD2_1   = -4.5897355872220E-06                                                  \n",
       "CD2_2   = -2.9652189133454E-05                                                  \n",
       "CUNIT1  = 'deg     '                                                            \n",
       "CUNIT2  = 'deg     '                                                            \n",
       "CRVAL1  =      8.7771413270993                                                  \n",
       "CRVAL2  =   -43.54542711889652                                                  \n",
       "A_ORDER =                    4                                                  \n",
       "A_0_2   =      -2.96522454E-10                                                  \n",
       "A_0_3   =      2.025500468E-14                                                  \n",
       "A_0_4   =      1.125861614E-17                                                  \n",
       "A_1_1   =     -6.549370538E-10                                                  \n",
       "A_1_2   =        -1.117288E-13                                                  \n",
       "A_1_3   =     -4.203416357E-17                                                  \n",
       "A_2_0   =      1.930903855E-10                                                  \n",
       "A_2_1   =     -1.222399303E-13                                                  \n",
       "A_2_2   =      5.707236298E-17                                                  \n",
       "A_3_0   =     -4.723311332E-14                                                  \n",
       "A_3_1   =      1.851516263E-17                                                  \n",
       "A_4_0   =     -7.494182021E-18                                                  \n",
       "B_ORDER =                    4                                                  \n",
       "B_0_2   =     -1.093409312E-09                                                  \n",
       "B_0_3   =       3.64910763E-15                                                  \n",
       "B_0_4   =      9.913484346E-18                                                  \n",
       "B_1_1   =      5.146864111E-10                                                  \n",
       "B_1_2   =     -4.055670845E-14                                                  \n",
       "B_1_3   =     -1.653077382E-17                                                  \n",
       "B_2_0   =     -4.056528137E-10                                                  \n",
       "B_2_1   =      5.057867796E-14                                                  \n",
       "B_2_2   =      9.016197209E-17                                                  \n",
       "B_3_0   =      1.314127915E-13                                                  \n",
       "B_3_1   =     -8.367340052E-17                                                  \n",
       "B_4_0   =      2.437246089E-19                                                  \n",
       "EQUINOX =               2000.0                                                  \n",
       "WCSAXES =                    2                                                  \n",
       "WCSNAME = 'wfiwcs_20210204_d2'                                                  \n",
       "TELESCOP= 'Roman   '                                                            \n",
       "INSTRUME= 'WFC     '                                                            \n",
       "RA_TARG =               8.6919                                                  \n",
       "DEC_TARG=             -43.5907                                                  \n",
       "PA_OBSY =    51.49000000000003                                                  \n",
       "PA_FPA  =               171.49                                                  \n",
       "SCA_NUM =                   10                                                  \n",
       "ORIENTAT=   171.43122592836542                                                  \n",
       "LONPOLE =                180.0                                                  \n",
       "SKY_MEAN=                 92.0                                                  \n",
       "EXTNAME = 'SCI     '           / extension name                                 \n",
       "EXTVER  =                    1 / extension value                                "
      ]
     },
     "execution_count": 94,
     "metadata": {},
     "output_type": "execute_result"
    }
   ],
   "source": [
    "f[1].header"
   ]
  },
  {
   "cell_type": "code",
   "execution_count": 7,
   "id": "9a2f802d-691e-489a-b5c0-5c7cf199d634",
   "metadata": {},
   "outputs": [
    {
     "data": {
      "text/plain": [
       "XTENSION= 'IMAGE   '           / Image extension                                \n",
       "BITPIX  =                  -64 / array data type                                \n",
       "NAXIS   =                    2 / number of array dimensions                     \n",
       "NAXIS1  =                 4088                                                  \n",
       "NAXIS2  =                 4088                                                  \n",
       "PCOUNT  =                    0 / number of parameters                           \n",
       "GCOUNT  =                    1 / number of groups                               \n",
       "EXPTIME =                139.8                                                  \n",
       "MJD-OBS =         61910.359647                                                  \n",
       "DATE-OBS= '2028-05-19 08:37:53.500800'                                          \n",
       "FILTER  = 'H158    '                                                            \n",
       "ZPTMAG  =   16.800870916182618                                                  \n",
       "GS_XMIN =                    1 / GalSim image minimum x coordinate              \n",
       "GS_YMIN =                    1 / GalSim image minimum y coordinate              \n",
       "GS_WCS  = 'GSFitsWCS'          / GalSim WCS name                                \n",
       "CTYPE1  = 'RA---TAN-SIP'                                                        \n",
       "CTYPE2  = 'DEC--TAN-SIP'                                                        \n",
       "CRPIX1  =               2044.0                                                  \n",
       "CRPIX2  =               2044.0                                                  \n",
       "CD1_1   = -2.9751088783901E-05                                                  \n",
       "CD1_2   = 4.42764685408027E-06                                                  \n",
       "CD2_1   = -5.1158488614121E-06                                                  \n",
       "CD2_2   = -2.9815140406091E-05                                                  \n",
       "CUNIT1  = 'deg     '                                                            \n",
       "CUNIT2  = 'deg     '                                                            \n",
       "CRVAL1  =    9.329525410004859                                                  \n",
       "CRVAL2  =   -44.23459794886135                                                  \n",
       "A_ORDER =                    4                                                  \n",
       "A_0_2   =     -1.307973449E-10                                                  \n",
       "A_0_3   =      9.024705059E-14                                                  \n",
       "A_0_4   =      4.092746413E-17                                                  \n",
       "A_1_1   =      -8.16299603E-10                                                  \n",
       "A_1_2   =      2.720757655E-14                                                  \n",
       "A_1_3   =      8.947729794E-18                                                  \n",
       "A_2_0   =      6.945359167E-10                                                  \n",
       "A_2_1   =      4.455782442E-15                                                  \n",
       "A_2_2   =      3.885014035E-17                                                  \n",
       "A_3_0   =     -2.300181113E-14                                                  \n",
       "A_3_1   =      4.936413677E-17                                                  \n",
       "A_4_0   =      2.077667947E-17                                                  \n",
       "B_ORDER =                    4                                                  \n",
       "B_0_2   =     -9.045504985E-10                                                  \n",
       "B_0_3   =      2.156407942E-14                                                  \n",
       "B_0_4   =       1.89623826E-17                                                  \n",
       "B_1_1   =      7.566281641E-10                                                  \n",
       "B_1_2   =     -7.660001469E-14                                                  \n",
       "B_1_3   =     -5.419098234E-17                                                  \n",
       "B_2_0   =     -1.442825719E-10                                                  \n",
       "B_2_1   =     -4.244069258E-14                                                  \n",
       "B_2_2   =      4.282349609E-17                                                  \n",
       "B_3_0   =      2.725809292E-15                                                  \n",
       "B_3_1   =     -2.610236788E-17                                                  \n",
       "B_4_0   =     -2.314684799E-17                                                  \n",
       "EQUINOX =               2000.0                                                  \n",
       "WCSAXES =                    2                                                  \n",
       "WCSNAME = 'wfiwcs_20210204_d2'                                                  \n",
       "TELESCOP= 'Roman   '                                                            \n",
       "INSTRUME= 'WFC     '                                                            \n",
       "RA_TARG =                 8.89                                                  \n",
       "DEC_TARG=             -44.4146                                                  \n",
       "PA_OBSY =   51.120000000000026                                                  \n",
       "PA_FPA  =               171.12                                                  \n",
       "SCA_NUM =                   16                                                  \n",
       "ORIENTAT=   170.81240020865013                                                  \n",
       "LONPOLE =                180.0                                                  \n",
       "SKY_MEAN=                 90.0                                                  \n",
       "EXTNAME = 'SCI     '           / extension name                                 \n",
       "EXTVER  =                    1 / extension value                                "
      ]
     },
     "execution_count": 7,
     "metadata": {},
     "output_type": "execute_result"
    }
   ],
   "source": [
    "f[1].header"
   ]
  },
  {
   "cell_type": "code",
   "execution_count": 59,
   "id": "8cbe7e5b-c971-4a4d-8bd3-378adeea5434",
   "metadata": {},
   "outputs": [
    {
     "name": "stderr",
     "output_type": "stream",
     "text": [
      "/Users/katylaliotis/miniconda3/lib/python3.8/site-packages/astropy/wcs/wcs.py:725: FITSFixedWarning: 'datfix' made the change 'Changed DATE-OBS from '2028-05-19 08:37:53.500800' to '2028-05-19T08:37:53.500800''.\n",
      "  warnings.warn(\n"
     ]
    }
   ],
   "source": [
    "w = wcs.WCS(f[1].header)"
   ]
  },
  {
   "cell_type": "code",
   "execution_count": 60,
   "id": "6ead65df-c0db-4afa-acdd-0aa4a1c0d80f",
   "metadata": {},
   "outputs": [
    {
     "data": {
      "text/plain": [
       "9.329525410004859"
      ]
     },
     "execution_count": 60,
     "metadata": {},
     "output_type": "execute_result"
    }
   ],
   "source": [
    "w.wcs.crval[0]"
   ]
  },
  {
   "cell_type": "code",
   "execution_count": 61,
   "id": "306dcb0f-67bd-42de-9710-258d04dc3cf1",
   "metadata": {},
   "outputs": [
    {
     "ename": "AttributeError",
     "evalue": "'WCS' object has no attribute 'crval'",
     "output_type": "error",
     "traceback": [
      "\u001b[0;31m---------------------------------------------------------------------------\u001b[0m",
      "\u001b[0;31mAttributeError\u001b[0m                            Traceback (most recent call last)",
      "Cell \u001b[0;32mIn[61], line 1\u001b[0m\n\u001b[0;32m----> 1\u001b[0m \u001b[43mw\u001b[49m\u001b[38;5;241;43m.\u001b[39;49m\u001b[43mcrval\u001b[49m[\u001b[38;5;241m0\u001b[39m]\n",
      "\u001b[0;31mAttributeError\u001b[0m: 'WCS' object has no attribute 'crval'"
     ]
    }
   ],
   "source": []
  },
  {
   "cell_type": "code",
   "execution_count": 84,
   "id": "21fe3c5a-9837-4cf5-8ff2-310bbabd9fc1",
   "metadata": {},
   "outputs": [
    {
     "name": "stdout",
     "output_type": "stream",
     "text": [
      "[[ 0  1  2  3]\n",
      " [ 4  5  6  7]\n",
      " [ 8  9 10 11]]\n"
     ]
    }
   ],
   "source": [
    "a_2d = np.arange(12).reshape((3, 4))\n",
    "print(a_2d)"
   ]
  },
  {
   "cell_type": "code",
   "execution_count": 88,
   "id": "72fe94db-dd3a-406b-b451-1c726cbf3898",
   "metadata": {},
   "outputs": [
    {
     "name": "stdout",
     "output_type": "stream",
     "text": [
      "[[ 0  1  2  3]\n",
      " [ 4  5  6  7]\n",
      " [ 8  9 10 11]]\n"
     ]
    }
   ],
   "source": [
    "a_2d=np.reshape(a_2d, (3,4))\n",
    "print(a_2d)"
   ]
  },
  {
   "cell_type": "code",
   "execution_count": 87,
   "id": "1cd8819e-5e82-4b4c-8ae9-e7d9355a5963",
   "metadata": {},
   "outputs": [
    {
     "name": "stdout",
     "output_type": "stream",
     "text": [
      "[ 0  1  2  3  4  5  6  7  8  9 10 11]\n"
     ]
    }
   ],
   "source": [
    "a_2d=np.ravel(a_2d)\n",
    "print(a_2d)"
   ]
  },
  {
   "cell_type": "code",
   "execution_count": 102,
   "id": "5ce7e43d-612c-45e2-ad8a-1eedb395f035",
   "metadata": {},
   "outputs": [
    {
     "data": {
      "text/plain": [
       "(4088, 4088)"
      ]
     },
     "execution_count": 102,
     "metadata": {},
     "output_type": "execute_result"
    }
   ],
   "source": [
    "fits.open('permanent_mask_220730.fits')[0].data[0].shape"
   ]
  },
  {
   "cell_type": "code",
   "execution_count": 122,
   "id": "f19582b5-571a-43c4-8886-54c018d332df",
   "metadata": {},
   "outputs": [],
   "source": [
    "f = fits.open('Roman_WAS_simple_model_H158_662_10.fits')\n",
    "image=np.copy(f['SCI'].data)\n",
    "f.close()"
   ]
  },
  {
   "cell_type": "code",
   "execution_count": 125,
   "id": "9b990c98-6421-4f74-a27c-daffb2b97485",
   "metadata": {},
   "outputs": [
    {
     "data": {
      "text/plain": [
       "139.5"
      ]
     },
     "execution_count": 125,
     "metadata": {},
     "output_type": "execute_result"
    }
   ],
   "source": [
    "1.5*np.median(image)"
   ]
  },
  {
   "cell_type": "code",
   "execution_count": 106,
   "id": "a3a616cd-cf39-48ea-9429-af1fa483ca09",
   "metadata": {},
   "outputs": [
    {
     "data": {
      "text/plain": [
       "96.17892896157338"
      ]
     },
     "execution_count": 106,
     "metadata": {},
     "output_type": "execute_result"
    }
   ],
   "source": [
    "np.mean(image)"
   ]
  },
  {
   "cell_type": "code",
   "execution_count": 119,
   "id": "78437f95-5987-47c3-9944-4b2fbbf4b452",
   "metadata": {},
   "outputs": [
    {
     "data": {
      "text/plain": [
       "(0.0, 200.0)"
      ]
     },
     "execution_count": 119,
     "metadata": {},
     "output_type": "execute_result"
    },
    {
     "data": {
      "image/png": "[encoded data removed]",
      "text/plain": [
       "<Figure size 640x480 with 1 Axes>"
      ]
     },
     "metadata": {},
     "output_type": "display_data"
    }
   ],
   "source": [
    "plt.hist(np.ravel(image),bins=10000)\n",
    "plt.xlim(0, 200)"
   ]
  },
  {
   "cell_type": "code",
   "execution_count": 126,
   "id": "6ada46b6-dbaa-46dd-b823-0bf52bae73d4",
   "metadata": {},
   "outputs": [],
   "source": [
    "for i in range(4088):\n",
    "    for j in range(4088):\n",
    "        if image[i,j]>=139.5: # 2*median\n",
    "            image[i-2:i+2, j-2:j+2]=0"
   ]
  },
  {
   "cell_type": "code",
   "execution_count": 127,
   "id": "8739e2e0-98b2-451b-afd6-3900018762a1",
   "metadata": {},
   "outputs": [],
   "source": [
    "# Create a FITS HDU (Header/Data Unit) from the array\n",
    "hdu = fits.PrimaryHDU(image)\n",
    "\n",
    "# Save the HDU to a FITS file\n",
    "hdu.writeto('image_masked.fits', overwrite=True)"
   ]
  },
  {
   "cell_type": "code",
   "execution_count": 138,
   "id": "122b3b9f-4244-405f-a397-b841322f3626",
   "metadata": {},
   "outputs": [
    {
     "name": "stdout",
     "output_type": "stream",
     "text": [
      "H158_662_10 H158 662 10\n"
     ]
    }
   ],
   "source": [
    "str = 'Roman_WAS_simple_model_H158_662_10.fits'\n",
    "m=re.search(r'(\\w\\d+)_(\\d+)_(\\d+)',str)\n",
    "print(m.group(0),m.group(1),m.group(2),m.group(3))"
   ]
  },
  {
   "cell_type": "code",
   "execution_count": 159,
   "id": "894e348a-b318-4178-86e8-6787b7577b59",
   "metadata": {},
   "outputs": [
    {
     "name": "stdout",
     "output_type": "stream",
     "text": [
      "[[ 0.  1.  2.  3.]\n",
      " [ 4.  5.  6.  7.]\n",
      " [ 8.  9. 10. 11.]\n",
      " [12. 13. 14. 15.]]\n",
      "[[ 2.5  3.5  4.5  0. ]\n",
      " [ 6.5  7.5  8.5  0. ]\n",
      " [10.5 11.5 12.5  0. ]\n",
      " [ 0.   0.   0.   0. ]]\n"
     ]
    }
   ],
   "source": [
    "from scipy import ndimage\n",
    " \n",
    "# creating an array from 0 to 15 values\n",
    "a = np.arange(16.).reshape((4, 4))\n",
    "print(a)\n",
    "xf=np.array([[.5,.5,.5,.5],[1.5,1.5,1.5,1.5],[2.5,2.5,2.5,2.5],[3.5,3.5,3.5,3.5]])\n",
    "yf=np.array([[.5,1.5,2.5,3.5],[.5,1.5,2.5,3.5],[.5,1.5,2.5,3.5],[.5,1.5,2.5,3.5]])\n",
    "# finding coordinates\n",
    "b=ndimage.map_coordinates(a, [xf,yf], order=1)\n",
    "print(b)"
   ]
  },
  {
   "cell_type": "code",
   "execution_count": 180,
   "id": "e16559fc-ad29-415b-a507-c573725a039e",
   "metadata": {},
   "outputs": [],
   "source": [
    "def interpolate_imgs(target_wcs, ref_wcs, ref_image):\n",
    "    \"\"\"\n",
    "    Interpolate values from a \"reference\" SCA image onto a \"target\" SCA coordinate grid\n",
    "    :param target_wcs: wcs of the image whose grid you want to interpolate onto\n",
    "    :param ref_wcs: wcs of the image whose values you want to use\n",
    "    :param ref_image: actual image whose values to use\n",
    "    :return: an image of ref_image interpolated onto target_image grid\n",
    "    \"\"\"\n",
    "    x_target, y_target, is_in_ref = compareutils.map_sca2sca(target_wcs, ref_wcs, pad=2)\n",
    "    interp_image = ndimage.map_coordinates(ref_image, [[x_target], [y_target]])\n",
    "    print(np.shape(interp_image))\n",
    "    return interp_image"
   ]
  },
  {
   "cell_type": "code",
   "execution_count": 198,
   "id": "49642e63-d6ab-4698-a0b8-93aee61279f9",
   "metadata": {},
   "outputs": [
    {
     "name": "stderr",
     "output_type": "stream",
     "text": [
      "/Users/katylaliotis/miniconda3/lib/python3.8/site-packages/astropy/wcs/wcs.py:725: FITSFixedWarning: 'datfix' made the change 'Changed DATE-OBS from '2028-05-19 14:08:19.536000' to '2028-05-19T14:08:19.536000''.\n",
      "  warnings.warn(\n",
      "/Users/katylaliotis/miniconda3/lib/python3.8/site-packages/astropy/wcs/wcs.py:725: FITSFixedWarning: 'datfix' made the change 'Changed DATE-OBS from '2028-05-19 14:11:09.312000' to '2028-05-19T14:11:09.312000''.\n",
      "  warnings.warn(\n"
     ]
    }
   ],
   "source": [
    "f = fits.open('Roman_WAS_simple_model_H158_782_3.fits')\n",
    "image1=np.copy(f['SCI'].data)\n",
    "image1_w = wcs.WCS(f['SCI'].header)\n",
    "f.close()\n",
    "f = fits.open('Roman_WAS_simple_model_H158_783_6.fits')\n",
    "image2=np.copy(f['SCI'].data)\n",
    "image2_w = wcs.WCS(f['SCI'].header)\n",
    "f.close()"
   ]
  },
  {
   "cell_type": "code",
   "execution_count": 199,
   "id": "54e2b9b0-0e87-4fea-a244-19694a1366d9",
   "metadata": {},
   "outputs": [
    {
     "name": "stdout",
     "output_type": "stream",
     "text": [
      "(1, 4092, 4092)\n"
     ]
    }
   ],
   "source": [
    "interpolated_image = interpolate_imgs(image1_w, image2_w, image2)"
   ]
  },
  {
   "cell_type": "code",
   "execution_count": 204,
   "id": "bed82c8b-ae88-47c8-a102-1d7b60f09888",
   "metadata": {},
   "outputs": [
    {
     "data": {
      "image/png": "[encoded data removed]",
      "text/plain": [
       "<Figure size 640x480 with 2 Axes>"
      ]
     },
     "metadata": {},
     "output_type": "display_data"
    }
   ],
   "source": [
    "im = plt.imshow(interpolated_image[0,:,:], cmap=\"viridis\", norm='symlog',origin='lower')\n",
    "cbar = plt.colorbar(im)\n",
    "cbar.set_label(\"Colorbar\")\n",
    "\n",
    "plt.show()"
   ]
  },
  {
   "cell_type": "code",
   "execution_count": null,
   "id": "9fd94a7c-7181-4ddd-a9e8-e4ace3d4c1de",
   "metadata": {},
   "outputs": [],
   "source": []
  }
 ],
 "metadata": {
  "kernelspec": {
   "display_name": "Python 3 (ipykernel)",
   "language": "python",
   "name": "python3"
  },
  "language_info": {
   "codemirror_mode": {
    "name": "ipython",
    "version": 3
   },
   "file_extension": ".py",
   "mimetype": "text/x-python",
   "name": "python",
   "nbconvert_exporter": "python",
   "pygments_lexer": "ipython3",
   "version": "3.8.19"
  }
 },
 "nbformat": 4,
 "nbformat_minor": 5
}
